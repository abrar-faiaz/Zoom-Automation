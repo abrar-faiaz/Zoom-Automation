{
 "cells": [
  {
   "cell_type": "code",
   "execution_count": 1,
   "id": "a24b6227",
   "metadata": {
    "scrolled": true
   },
   "outputs": [
    {
     "name": "stdout",
     "output_type": "stream",
     "text": [
      "Requirement already satisfied: pyautogui in /Users/user/anaconda3/lib/python3.10/site-packages (0.9.54)\n",
      "Requirement already satisfied: pymsgbox in /Users/user/anaconda3/lib/python3.10/site-packages (from pyautogui) (1.0.9)\n",
      "Requirement already satisfied: pygetwindow>=0.0.5 in /Users/user/anaconda3/lib/python3.10/site-packages (from pyautogui) (0.0.9)\n",
      "Requirement already satisfied: pytweening>=1.0.4 in /Users/user/anaconda3/lib/python3.10/site-packages (from pyautogui) (1.0.7)\n",
      "Requirement already satisfied: pyobjc-framework-quartz in /Users/user/anaconda3/lib/python3.10/site-packages (from pyautogui) (9.2)\n",
      "Requirement already satisfied: mouseinfo in /Users/user/anaconda3/lib/python3.10/site-packages (from pyautogui) (0.1.3)\n",
      "Requirement already satisfied: pyobjc-core in /Users/user/anaconda3/lib/python3.10/site-packages (from pyautogui) (9.2)\n",
      "Requirement already satisfied: pyscreeze>=0.1.21 in /Users/user/anaconda3/lib/python3.10/site-packages (from pyautogui) (0.1.29)\n",
      "Requirement already satisfied: pyrect in /Users/user/anaconda3/lib/python3.10/site-packages (from pygetwindow>=0.0.5->pyautogui) (0.2.0)\n",
      "Requirement already satisfied: Pillow>=9.2.0 in /Users/user/anaconda3/lib/python3.10/site-packages (from pyscreeze>=0.1.21->pyautogui) (10.0.0)\n",
      "Requirement already satisfied: pyscreenshot in /Users/user/anaconda3/lib/python3.10/site-packages (from pyscreeze>=0.1.21->pyautogui) (3.1)\n",
      "Requirement already satisfied: pyperclip in /Users/user/anaconda3/lib/python3.10/site-packages (from mouseinfo->pyautogui) (1.8.2)\n",
      "Requirement already satisfied: rubicon-objc in /Users/user/anaconda3/lib/python3.10/site-packages (from mouseinfo->pyautogui) (0.4.6)\n",
      "Requirement already satisfied: pyobjc-framework-Cocoa>=9.2 in /Users/user/anaconda3/lib/python3.10/site-packages (from pyobjc-framework-quartz->pyautogui) (9.2)\n",
      "Requirement already satisfied: entrypoint2 in /Users/user/anaconda3/lib/python3.10/site-packages (from pyscreenshot->pyscreeze>=0.1.21->pyautogui) (1.1)\n",
      "Requirement already satisfied: EasyProcess in /Users/user/anaconda3/lib/python3.10/site-packages (from pyscreenshot->pyscreeze>=0.1.21->pyautogui) (1.1)\n",
      "Requirement already satisfied: mss in /Users/user/anaconda3/lib/python3.10/site-packages (from pyscreenshot->pyscreeze>=0.1.21->pyautogui) (9.0.1)\n"
     ]
    }
   ],
   "source": [
    "!pip3 install pyautogui\n"
   ]
  },
  {
   "cell_type": "code",
   "execution_count": 4,
   "id": "7fa4186a",
   "metadata": {},
   "outputs": [],
   "source": [
    "import os\n",
    "import re\n",
    "\n",
    "import subprocess\n",
    "import pyautogui\n",
    "import time\n",
    "import pandas as pd\n",
    "from datetime import datetime\n"
   ]
  },
  {
   "cell_type": "code",
   "execution_count": 6,
   "id": "db880573",
   "metadata": {
    "scrolled": true
   },
   "outputs": [],
   "source": [
    "#store zoom app path adress in the zoom_path\n",
    "\n",
    "\n",
    "def openApp():\n",
    "    zoom_path=\"/Applications/zoom.us.app\"\n",
    "    os.system(\"open \" + zoom_path)\n",
    "    time.sleep(10)\n",
    "\n"
   ]
  },
  {
   "cell_type": "code",
   "execution_count": 8,
   "id": "9d284ac8",
   "metadata": {},
   "outputs": [],
   "source": [
    "openApp()"
   ]
  },
  {
   "cell_type": "code",
   "execution_count": 4,
   "id": "5aa44d1f",
   "metadata": {},
   "outputs": [],
   "source": [
    "#take a screenshot of the join button of zoom and store it in join_path\n",
    "join_path=(\"/Users/user/Desktop/join.png\") \n",
    "def click_join_button():\n",
    "    join_dialog_position = pyautogui.locateOnScreen('join_dialog.png', confidence=0.9)\n",
    "    while join_dialog_position is None:\n",
    "        join_dialog_position = pyautogui.locateOnScreen('join_dialog.png', confidence=0.9)\n",
    "        time.sleep(1)\n",
    "\n",
    "    # Click on the Join Meeting dialog\n",
    "    join_dialog_center = pyautogui.center(join_dialog_position)\n",
    "    pyautogui.click(join_dialog_center)"
   ]
  },
  {
   "cell_type": "code",
   "execution_count": 5,
   "id": "7a7711f1",
   "metadata": {},
   "outputs": [
    {
     "ename": "NameError",
     "evalue": "name 'PILLOW_VERSION' is not defined",
     "output_type": "error",
     "traceback": [
      "\u001b[0;31m---------------------------------------------------------------------------\u001b[0m",
      "\u001b[0;31mNameError\u001b[0m                                 Traceback (most recent call last)",
      "Cell \u001b[0;32mIn[5], line 1\u001b[0m\n\u001b[0;32m----> 1\u001b[0m \u001b[43mclick_join_button\u001b[49m\u001b[43m(\u001b[49m\u001b[43m)\u001b[49m\n",
      "Cell \u001b[0;32mIn[4], line 4\u001b[0m, in \u001b[0;36mclick_join_button\u001b[0;34m()\u001b[0m\n\u001b[1;32m      3\u001b[0m \u001b[38;5;28;01mdef\u001b[39;00m \u001b[38;5;21mclick_join_button\u001b[39m():\n\u001b[0;32m----> 4\u001b[0m     join_dialog_position \u001b[38;5;241m=\u001b[39m \u001b[43mpyautogui\u001b[49m\u001b[38;5;241;43m.\u001b[39;49m\u001b[43mlocateOnScreen\u001b[49m\u001b[43m(\u001b[49m\u001b[38;5;124;43m'\u001b[39;49m\u001b[38;5;124;43mjoin_dialog.png\u001b[39;49m\u001b[38;5;124;43m'\u001b[39;49m\u001b[43m,\u001b[49m\u001b[43m \u001b[49m\u001b[43mconfidence\u001b[49m\u001b[38;5;241;43m=\u001b[39;49m\u001b[38;5;241;43m0.9\u001b[39;49m\u001b[43m)\u001b[49m\n\u001b[1;32m      5\u001b[0m     \u001b[38;5;28;01mwhile\u001b[39;00m join_dialog_position \u001b[38;5;129;01mis\u001b[39;00m \u001b[38;5;28;01mNone\u001b[39;00m:\n\u001b[1;32m      6\u001b[0m         join_dialog_position \u001b[38;5;241m=\u001b[39m pyautogui\u001b[38;5;241m.\u001b[39mlocateOnScreen(\u001b[38;5;124m'\u001b[39m\u001b[38;5;124mjoin_dialog.png\u001b[39m\u001b[38;5;124m'\u001b[39m, confidence\u001b[38;5;241m=\u001b[39m\u001b[38;5;241m0.9\u001b[39m)\n",
      "File \u001b[0;32m~/anaconda3/lib/python3.10/site-packages/pyautogui/__init__.py:172\u001b[0m, in \u001b[0;36mraisePyAutoGUIImageNotFoundException.<locals>.wrapper\u001b[0;34m(*args, **kwargs)\u001b[0m\n\u001b[1;32m    169\u001b[0m \u001b[38;5;129m@functools\u001b[39m\u001b[38;5;241m.\u001b[39mwraps(wrappedFunction)\n\u001b[1;32m    170\u001b[0m \u001b[38;5;28;01mdef\u001b[39;00m \u001b[38;5;21mwrapper\u001b[39m(\u001b[38;5;241m*\u001b[39margs, \u001b[38;5;241m*\u001b[39m\u001b[38;5;241m*\u001b[39mkwargs):\n\u001b[1;32m    171\u001b[0m     \u001b[38;5;28;01mtry\u001b[39;00m:\n\u001b[0;32m--> 172\u001b[0m         \u001b[38;5;28;01mreturn\u001b[39;00m \u001b[43mwrappedFunction\u001b[49m\u001b[43m(\u001b[49m\u001b[38;5;241;43m*\u001b[39;49m\u001b[43margs\u001b[49m\u001b[43m,\u001b[49m\u001b[43m \u001b[49m\u001b[38;5;241;43m*\u001b[39;49m\u001b[38;5;241;43m*\u001b[39;49m\u001b[43mkwargs\u001b[49m\u001b[43m)\u001b[49m\n\u001b[1;32m    173\u001b[0m     \u001b[38;5;28;01mexcept\u001b[39;00m pyscreeze\u001b[38;5;241m.\u001b[39mImageNotFoundException:\n\u001b[1;32m    174\u001b[0m         \u001b[38;5;28;01mraise\u001b[39;00m ImageNotFoundException\n",
      "File \u001b[0;32m~/anaconda3/lib/python3.10/site-packages/pyautogui/__init__.py:210\u001b[0m, in \u001b[0;36mlocateOnScreen\u001b[0;34m(*args, **kwargs)\u001b[0m\n\u001b[1;32m    208\u001b[0m \u001b[38;5;129m@raisePyAutoGUIImageNotFoundException\u001b[39m\n\u001b[1;32m    209\u001b[0m \u001b[38;5;28;01mdef\u001b[39;00m \u001b[38;5;21mlocateOnScreen\u001b[39m(\u001b[38;5;241m*\u001b[39margs, \u001b[38;5;241m*\u001b[39m\u001b[38;5;241m*\u001b[39mkwargs):\n\u001b[0;32m--> 210\u001b[0m     \u001b[38;5;28;01mreturn\u001b[39;00m \u001b[43mpyscreeze\u001b[49m\u001b[38;5;241;43m.\u001b[39;49m\u001b[43mlocateOnScreen\u001b[49m\u001b[43m(\u001b[49m\u001b[38;5;241;43m*\u001b[39;49m\u001b[43margs\u001b[49m\u001b[43m,\u001b[49m\u001b[43m \u001b[49m\u001b[38;5;241;43m*\u001b[39;49m\u001b[38;5;241;43m*\u001b[39;49m\u001b[43mkwargs\u001b[49m\u001b[43m)\u001b[49m\n",
      "File \u001b[0;32m~/anaconda3/lib/python3.10/site-packages/pyscreeze/__init__.py:377\u001b[0m, in \u001b[0;36mlocateOnScreen\u001b[0;34m(image, minSearchTime, **kwargs)\u001b[0m\n\u001b[1;32m    375\u001b[0m \u001b[38;5;28;01mwhile\u001b[39;00m \u001b[38;5;28;01mTrue\u001b[39;00m:\n\u001b[1;32m    376\u001b[0m     \u001b[38;5;28;01mtry\u001b[39;00m:\n\u001b[0;32m--> 377\u001b[0m         screenshotIm \u001b[38;5;241m=\u001b[39m \u001b[43mscreenshot\u001b[49m\u001b[43m(\u001b[49m\n\u001b[1;32m    378\u001b[0m \u001b[43m            \u001b[49m\u001b[43mregion\u001b[49m\u001b[38;5;241;43m=\u001b[39;49m\u001b[38;5;28;43;01mNone\u001b[39;49;00m\n\u001b[1;32m    379\u001b[0m \u001b[43m        \u001b[49m\u001b[43m)\u001b[49m  \u001b[38;5;66;03m# the locateAll() function must handle cropping to return accurate coordinates, so don't pass a region here.\u001b[39;00m\n\u001b[1;32m    380\u001b[0m         retVal \u001b[38;5;241m=\u001b[39m locate(image, screenshotIm, \u001b[38;5;241m*\u001b[39m\u001b[38;5;241m*\u001b[39mkwargs)\n\u001b[1;32m    381\u001b[0m         \u001b[38;5;28;01mtry\u001b[39;00m:\n",
      "File \u001b[0;32m~/anaconda3/lib/python3.10/site-packages/pyscreeze/__init__.py:529\u001b[0m, in \u001b[0;36m_screenshot_osx\u001b[0;34m(imageFilename, region)\u001b[0m\n\u001b[1;32m    525\u001b[0m \u001b[38;5;124;03m\"\"\"\u001b[39;00m\n\u001b[1;32m    526\u001b[0m \u001b[38;5;124;03mTODO\u001b[39;00m\n\u001b[1;32m    527\u001b[0m \u001b[38;5;124;03m\"\"\"\u001b[39;00m\n\u001b[1;32m    528\u001b[0m \u001b[38;5;66;03m# TODO - use tmp name for this file.\u001b[39;00m\n\u001b[0;32m--> 529\u001b[0m \u001b[38;5;28;01mif\u001b[39;00m \u001b[38;5;28mtuple\u001b[39m(\u001b[43mPILLOW_VERSION\u001b[49m\u001b[38;5;241m.\u001b[39msplit(\u001b[38;5;124m'\u001b[39m\u001b[38;5;124m.\u001b[39m\u001b[38;5;124m'\u001b[39m)) \u001b[38;5;241m<\u001b[39m (\u001b[38;5;241m6\u001b[39m, \u001b[38;5;241m2\u001b[39m, \u001b[38;5;241m1\u001b[39m):\n\u001b[1;32m    530\u001b[0m \n\u001b[1;32m    531\u001b[0m     \u001b[38;5;66;03m# Use the screencapture program if Pillow is older than 6.2.1, which\u001b[39;00m\n\u001b[1;32m    532\u001b[0m     \u001b[38;5;66;03m# is when Pillow supported ImageGrab.grab() on macOS. (It may have\u001b[39;00m\n\u001b[1;32m    533\u001b[0m     \u001b[38;5;66;03m# supported it earlier than 6.2.1, but I haven't tested it.)\u001b[39;00m\n\u001b[1;32m    534\u001b[0m     \u001b[38;5;28;01mif\u001b[39;00m imageFilename \u001b[38;5;129;01mis\u001b[39;00m \u001b[38;5;28;01mNone\u001b[39;00m:\n\u001b[1;32m    535\u001b[0m         tmpFilename \u001b[38;5;241m=\u001b[39m \u001b[38;5;124m'\u001b[39m\u001b[38;5;124mscreenshot\u001b[39m\u001b[38;5;132;01m%s\u001b[39;00m\u001b[38;5;124m.png\u001b[39m\u001b[38;5;124m'\u001b[39m \u001b[38;5;241m%\u001b[39m (datetime\u001b[38;5;241m.\u001b[39mdatetime\u001b[38;5;241m.\u001b[39mnow()\u001b[38;5;241m.\u001b[39mstrftime(\u001b[38;5;124m'\u001b[39m\u001b[38;5;124m%\u001b[39m\u001b[38;5;124mY-\u001b[39m\u001b[38;5;124m%\u001b[39m\u001b[38;5;124mm\u001b[39m\u001b[38;5;132;01m%d\u001b[39;00m\u001b[38;5;124m_\u001b[39m\u001b[38;5;124m%\u001b[39m\u001b[38;5;124mH-\u001b[39m\u001b[38;5;124m%\u001b[39m\u001b[38;5;124mM-\u001b[39m\u001b[38;5;124m%\u001b[39m\u001b[38;5;124mS-\u001b[39m\u001b[38;5;132;01m%f\u001b[39;00m\u001b[38;5;124m'\u001b[39m))\n",
      "\u001b[0;31mNameError\u001b[0m: name 'PILLOW_VERSION' is not defined"
     ]
    }
   ],
   "source": [
    "click_join_button()"
   ]
  },
  {
   "cell_type": "code",
   "execution_count": null,
   "id": "8c024b92",
   "metadata": {},
   "outputs": [],
   "source": [
    "#Succesfully opened zoom"
   ]
  },
  {
   "cell_type": "code",
   "execution_count": null,
   "id": "fcf5201a",
   "metadata": {},
   "outputs": [],
   "source": [
    "def login():\n",
    "    openApp()\n",
    "    click_join_button()\n",
    "    "
   ]
  },
  {
   "cell_type": "code",
   "execution_count": null,
   "id": "5d7e7bd0",
   "metadata": {
    "scrolled": true
   },
   "outputs": [],
   "source": [
    "login()"
   ]
  },
  {
   "cell_type": "code",
   "execution_count": null,
   "id": "cda8c5c1",
   "metadata": {},
   "outputs": [],
   "source": []
  }
 ],
 "metadata": {
  "kernelspec": {
   "display_name": "Python 3 (ipykernel)",
   "language": "python",
   "name": "python3"
  },
  "language_info": {
   "codemirror_mode": {
    "name": "ipython",
    "version": 3
   },
   "file_extension": ".py",
   "mimetype": "text/x-python",
   "name": "python",
   "nbconvert_exporter": "python",
   "pygments_lexer": "ipython3",
   "version": "3.10.9"
  }
 },
 "nbformat": 4,
 "nbformat_minor": 5
}
